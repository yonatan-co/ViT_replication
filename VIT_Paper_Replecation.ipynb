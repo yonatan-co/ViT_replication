{
  "nbformat": 4,
  "nbformat_minor": 0,
  "metadata": {
    "colab": {
      "provenance": [],
      "toc_visible": true,
      "authorship_tag": "ABX9TyNPXUV945gTesS/ykqxygyC",
      "include_colab_link": true
    },
    "kernelspec": {
      "name": "python3",
      "display_name": "Python 3"
    },
    "language_info": {
      "name": "python"
    },
    "accelerator": "GPU",
    "gpuClass": "premium",
    "widgets": {
      "application/vnd.jupyter.widget-state+json": {
        "88efcb25db7c4b389bd73eb8b8f746f3": {
          "model_module": "@jupyter-widgets/controls",
          "model_name": "HBoxModel",
          "model_module_version": "1.5.0",
          "state": {
            "_dom_classes": [],
            "_model_module": "@jupyter-widgets/controls",
            "_model_module_version": "1.5.0",
            "_model_name": "HBoxModel",
            "_view_count": null,
            "_view_module": "@jupyter-widgets/controls",
            "_view_module_version": "1.5.0",
            "_view_name": "HBoxView",
            "box_style": "",
            "children": [
              "IPY_MODEL_58a0ee6117aa4698ae3e0bcf0dea6f41",
              "IPY_MODEL_fce7d53d585549bab185c21deecd3572",
              "IPY_MODEL_3a83f4ceadeb4017891d6e3bf08043b9"
            ],
            "layout": "IPY_MODEL_92989c9487d6458884726c900ba68715"
          }
        },
        "58a0ee6117aa4698ae3e0bcf0dea6f41": {
          "model_module": "@jupyter-widgets/controls",
          "model_name": "HTMLModel",
          "model_module_version": "1.5.0",
          "state": {
            "_dom_classes": [],
            "_model_module": "@jupyter-widgets/controls",
            "_model_module_version": "1.5.0",
            "_model_name": "HTMLModel",
            "_view_count": null,
            "_view_module": "@jupyter-widgets/controls",
            "_view_module_version": "1.5.0",
            "_view_name": "HTMLView",
            "description": "",
            "description_tooltip": null,
            "layout": "IPY_MODEL_4c92cae309ef4ae48bf1a393ceeb002f",
            "placeholder": "​",
            "style": "IPY_MODEL_70165be2ee4040ec9be38c804e457581",
            "value": "100%"
          }
        },
        "fce7d53d585549bab185c21deecd3572": {
          "model_module": "@jupyter-widgets/controls",
          "model_name": "FloatProgressModel",
          "model_module_version": "1.5.0",
          "state": {
            "_dom_classes": [],
            "_model_module": "@jupyter-widgets/controls",
            "_model_module_version": "1.5.0",
            "_model_name": "FloatProgressModel",
            "_view_count": null,
            "_view_module": "@jupyter-widgets/controls",
            "_view_module_version": "1.5.0",
            "_view_name": "ProgressView",
            "bar_style": "success",
            "description": "",
            "description_tooltip": null,
            "layout": "IPY_MODEL_8653c1d1fe654676ab26930ae0808051",
            "max": 170498071,
            "min": 0,
            "orientation": "horizontal",
            "style": "IPY_MODEL_21b7c6d646be401c8293649a4012a7ee",
            "value": 170498071
          }
        },
        "3a83f4ceadeb4017891d6e3bf08043b9": {
          "model_module": "@jupyter-widgets/controls",
          "model_name": "HTMLModel",
          "model_module_version": "1.5.0",
          "state": {
            "_dom_classes": [],
            "_model_module": "@jupyter-widgets/controls",
            "_model_module_version": "1.5.0",
            "_model_name": "HTMLModel",
            "_view_count": null,
            "_view_module": "@jupyter-widgets/controls",
            "_view_module_version": "1.5.0",
            "_view_name": "HTMLView",
            "description": "",
            "description_tooltip": null,
            "layout": "IPY_MODEL_7aa1804278cb4572be54bb551a87f46a",
            "placeholder": "​",
            "style": "IPY_MODEL_cd39a84f506c4eeea287c3d06e0dc1dd",
            "value": " 170498071/170498071 [00:02&lt;00:00, 73307410.97it/s]"
          }
        },
        "92989c9487d6458884726c900ba68715": {
          "model_module": "@jupyter-widgets/base",
          "model_name": "LayoutModel",
          "model_module_version": "1.2.0",
          "state": {
            "_model_module": "@jupyter-widgets/base",
            "_model_module_version": "1.2.0",
            "_model_name": "LayoutModel",
            "_view_count": null,
            "_view_module": "@jupyter-widgets/base",
            "_view_module_version": "1.2.0",
            "_view_name": "LayoutView",
            "align_content": null,
            "align_items": null,
            "align_self": null,
            "border": null,
            "bottom": null,
            "display": null,
            "flex": null,
            "flex_flow": null,
            "grid_area": null,
            "grid_auto_columns": null,
            "grid_auto_flow": null,
            "grid_auto_rows": null,
            "grid_column": null,
            "grid_gap": null,
            "grid_row": null,
            "grid_template_areas": null,
            "grid_template_columns": null,
            "grid_template_rows": null,
            "height": null,
            "justify_content": null,
            "justify_items": null,
            "left": null,
            "margin": null,
            "max_height": null,
            "max_width": null,
            "min_height": null,
            "min_width": null,
            "object_fit": null,
            "object_position": null,
            "order": null,
            "overflow": null,
            "overflow_x": null,
            "overflow_y": null,
            "padding": null,
            "right": null,
            "top": null,
            "visibility": null,
            "width": null
          }
        },
        "4c92cae309ef4ae48bf1a393ceeb002f": {
          "model_module": "@jupyter-widgets/base",
          "model_name": "LayoutModel",
          "model_module_version": "1.2.0",
          "state": {
            "_model_module": "@jupyter-widgets/base",
            "_model_module_version": "1.2.0",
            "_model_name": "LayoutModel",
            "_view_count": null,
            "_view_module": "@jupyter-widgets/base",
            "_view_module_version": "1.2.0",
            "_view_name": "LayoutView",
            "align_content": null,
            "align_items": null,
            "align_self": null,
            "border": null,
            "bottom": null,
            "display": null,
            "flex": null,
            "flex_flow": null,
            "grid_area": null,
            "grid_auto_columns": null,
            "grid_auto_flow": null,
            "grid_auto_rows": null,
            "grid_column": null,
            "grid_gap": null,
            "grid_row": null,
            "grid_template_areas": null,
            "grid_template_columns": null,
            "grid_template_rows": null,
            "height": null,
            "justify_content": null,
            "justify_items": null,
            "left": null,
            "margin": null,
            "max_height": null,
            "max_width": null,
            "min_height": null,
            "min_width": null,
            "object_fit": null,
            "object_position": null,
            "order": null,
            "overflow": null,
            "overflow_x": null,
            "overflow_y": null,
            "padding": null,
            "right": null,
            "top": null,
            "visibility": null,
            "width": null
          }
        },
        "70165be2ee4040ec9be38c804e457581": {
          "model_module": "@jupyter-widgets/controls",
          "model_name": "DescriptionStyleModel",
          "model_module_version": "1.5.0",
          "state": {
            "_model_module": "@jupyter-widgets/controls",
            "_model_module_version": "1.5.0",
            "_model_name": "DescriptionStyleModel",
            "_view_count": null,
            "_view_module": "@jupyter-widgets/base",
            "_view_module_version": "1.2.0",
            "_view_name": "StyleView",
            "description_width": ""
          }
        },
        "8653c1d1fe654676ab26930ae0808051": {
          "model_module": "@jupyter-widgets/base",
          "model_name": "LayoutModel",
          "model_module_version": "1.2.0",
          "state": {
            "_model_module": "@jupyter-widgets/base",
            "_model_module_version": "1.2.0",
            "_model_name": "LayoutModel",
            "_view_count": null,
            "_view_module": "@jupyter-widgets/base",
            "_view_module_version": "1.2.0",
            "_view_name": "LayoutView",
            "align_content": null,
            "align_items": null,
            "align_self": null,
            "border": null,
            "bottom": null,
            "display": null,
            "flex": null,
            "flex_flow": null,
            "grid_area": null,
            "grid_auto_columns": null,
            "grid_auto_flow": null,
            "grid_auto_rows": null,
            "grid_column": null,
            "grid_gap": null,
            "grid_row": null,
            "grid_template_areas": null,
            "grid_template_columns": null,
            "grid_template_rows": null,
            "height": null,
            "justify_content": null,
            "justify_items": null,
            "left": null,
            "margin": null,
            "max_height": null,
            "max_width": null,
            "min_height": null,
            "min_width": null,
            "object_fit": null,
            "object_position": null,
            "order": null,
            "overflow": null,
            "overflow_x": null,
            "overflow_y": null,
            "padding": null,
            "right": null,
            "top": null,
            "visibility": null,
            "width": null
          }
        },
        "21b7c6d646be401c8293649a4012a7ee": {
          "model_module": "@jupyter-widgets/controls",
          "model_name": "ProgressStyleModel",
          "model_module_version": "1.5.0",
          "state": {
            "_model_module": "@jupyter-widgets/controls",
            "_model_module_version": "1.5.0",
            "_model_name": "ProgressStyleModel",
            "_view_count": null,
            "_view_module": "@jupyter-widgets/base",
            "_view_module_version": "1.2.0",
            "_view_name": "StyleView",
            "bar_color": null,
            "description_width": ""
          }
        },
        "7aa1804278cb4572be54bb551a87f46a": {
          "model_module": "@jupyter-widgets/base",
          "model_name": "LayoutModel",
          "model_module_version": "1.2.0",
          "state": {
            "_model_module": "@jupyter-widgets/base",
            "_model_module_version": "1.2.0",
            "_model_name": "LayoutModel",
            "_view_count": null,
            "_view_module": "@jupyter-widgets/base",
            "_view_module_version": "1.2.0",
            "_view_name": "LayoutView",
            "align_content": null,
            "align_items": null,
            "align_self": null,
            "border": null,
            "bottom": null,
            "display": null,
            "flex": null,
            "flex_flow": null,
            "grid_area": null,
            "grid_auto_columns": null,
            "grid_auto_flow": null,
            "grid_auto_rows": null,
            "grid_column": null,
            "grid_gap": null,
            "grid_row": null,
            "grid_template_areas": null,
            "grid_template_columns": null,
            "grid_template_rows": null,
            "height": null,
            "justify_content": null,
            "justify_items": null,
            "left": null,
            "margin": null,
            "max_height": null,
            "max_width": null,
            "min_height": null,
            "min_width": null,
            "object_fit": null,
            "object_position": null,
            "order": null,
            "overflow": null,
            "overflow_x": null,
            "overflow_y": null,
            "padding": null,
            "right": null,
            "top": null,
            "visibility": null,
            "width": null
          }
        },
        "cd39a84f506c4eeea287c3d06e0dc1dd": {
          "model_module": "@jupyter-widgets/controls",
          "model_name": "DescriptionStyleModel",
          "model_module_version": "1.5.0",
          "state": {
            "_model_module": "@jupyter-widgets/controls",
            "_model_module_version": "1.5.0",
            "_model_name": "DescriptionStyleModel",
            "_view_count": null,
            "_view_module": "@jupyter-widgets/base",
            "_view_module_version": "1.2.0",
            "_view_name": "StyleView",
            "description_width": ""
          }
        },
        "ca06af1a1b934e608fd1127a6b787117": {
          "model_module": "@jupyter-widgets/controls",
          "model_name": "HBoxModel",
          "model_module_version": "1.5.0",
          "state": {
            "_dom_classes": [],
            "_model_module": "@jupyter-widgets/controls",
            "_model_module_version": "1.5.0",
            "_model_name": "HBoxModel",
            "_view_count": null,
            "_view_module": "@jupyter-widgets/controls",
            "_view_module_version": "1.5.0",
            "_view_name": "HBoxView",
            "box_style": "",
            "children": [
              "IPY_MODEL_9ddacf0e332647e8ba668ec9e0f250e0",
              "IPY_MODEL_1d73a3f87ff343b2a860dee55a1ecbdb",
              "IPY_MODEL_f61f865294ba44fb82b4e7e08242009c"
            ],
            "layout": "IPY_MODEL_5e3fcfd4c98640a09cda575efa2c51de"
          }
        },
        "9ddacf0e332647e8ba668ec9e0f250e0": {
          "model_module": "@jupyter-widgets/controls",
          "model_name": "HTMLModel",
          "model_module_version": "1.5.0",
          "state": {
            "_dom_classes": [],
            "_model_module": "@jupyter-widgets/controls",
            "_model_module_version": "1.5.0",
            "_model_name": "HTMLModel",
            "_view_count": null,
            "_view_module": "@jupyter-widgets/controls",
            "_view_module_version": "1.5.0",
            "_view_name": "HTMLView",
            "description": "",
            "description_tooltip": null,
            "layout": "IPY_MODEL_a0d1411f34ea4c20852cde4d804c599d",
            "placeholder": "​",
            "style": "IPY_MODEL_ea8e637793764f499f1def196ba6932f",
            "value": " 40%"
          }
        },
        "1d73a3f87ff343b2a860dee55a1ecbdb": {
          "model_module": "@jupyter-widgets/controls",
          "model_name": "FloatProgressModel",
          "model_module_version": "1.5.0",
          "state": {
            "_dom_classes": [],
            "_model_module": "@jupyter-widgets/controls",
            "_model_module_version": "1.5.0",
            "_model_name": "FloatProgressModel",
            "_view_count": null,
            "_view_module": "@jupyter-widgets/controls",
            "_view_module_version": "1.5.0",
            "_view_name": "ProgressView",
            "bar_style": "danger",
            "description": "",
            "description_tooltip": null,
            "layout": "IPY_MODEL_0cd63e6fef1f48048a93188267cd6be3",
            "max": 5,
            "min": 0,
            "orientation": "horizontal",
            "style": "IPY_MODEL_bc82d1bbf1d94735b684ef3d6ee7d18b",
            "value": 2
          }
        },
        "f61f865294ba44fb82b4e7e08242009c": {
          "model_module": "@jupyter-widgets/controls",
          "model_name": "HTMLModel",
          "model_module_version": "1.5.0",
          "state": {
            "_dom_classes": [],
            "_model_module": "@jupyter-widgets/controls",
            "_model_module_version": "1.5.0",
            "_model_name": "HTMLModel",
            "_view_count": null,
            "_view_module": "@jupyter-widgets/controls",
            "_view_module_version": "1.5.0",
            "_view_name": "HTMLView",
            "description": "",
            "description_tooltip": null,
            "layout": "IPY_MODEL_c876885a8fbe416eb9bf29ab95cfce18",
            "placeholder": "​",
            "style": "IPY_MODEL_eb131c5690934bffa3d497b65aa6616e",
            "value": " 2/5 [16:05&lt;20:46, 415.34s/it]"
          }
        },
        "5e3fcfd4c98640a09cda575efa2c51de": {
          "model_module": "@jupyter-widgets/base",
          "model_name": "LayoutModel",
          "model_module_version": "1.2.0",
          "state": {
            "_model_module": "@jupyter-widgets/base",
            "_model_module_version": "1.2.0",
            "_model_name": "LayoutModel",
            "_view_count": null,
            "_view_module": "@jupyter-widgets/base",
            "_view_module_version": "1.2.0",
            "_view_name": "LayoutView",
            "align_content": null,
            "align_items": null,
            "align_self": null,
            "border": null,
            "bottom": null,
            "display": null,
            "flex": null,
            "flex_flow": null,
            "grid_area": null,
            "grid_auto_columns": null,
            "grid_auto_flow": null,
            "grid_auto_rows": null,
            "grid_column": null,
            "grid_gap": null,
            "grid_row": null,
            "grid_template_areas": null,
            "grid_template_columns": null,
            "grid_template_rows": null,
            "height": null,
            "justify_content": null,
            "justify_items": null,
            "left": null,
            "margin": null,
            "max_height": null,
            "max_width": null,
            "min_height": null,
            "min_width": null,
            "object_fit": null,
            "object_position": null,
            "order": null,
            "overflow": null,
            "overflow_x": null,
            "overflow_y": null,
            "padding": null,
            "right": null,
            "top": null,
            "visibility": null,
            "width": null
          }
        },
        "a0d1411f34ea4c20852cde4d804c599d": {
          "model_module": "@jupyter-widgets/base",
          "model_name": "LayoutModel",
          "model_module_version": "1.2.0",
          "state": {
            "_model_module": "@jupyter-widgets/base",
            "_model_module_version": "1.2.0",
            "_model_name": "LayoutModel",
            "_view_count": null,
            "_view_module": "@jupyter-widgets/base",
            "_view_module_version": "1.2.0",
            "_view_name": "LayoutView",
            "align_content": null,
            "align_items": null,
            "align_self": null,
            "border": null,
            "bottom": null,
            "display": null,
            "flex": null,
            "flex_flow": null,
            "grid_area": null,
            "grid_auto_columns": null,
            "grid_auto_flow": null,
            "grid_auto_rows": null,
            "grid_column": null,
            "grid_gap": null,
            "grid_row": null,
            "grid_template_areas": null,
            "grid_template_columns": null,
            "grid_template_rows": null,
            "height": null,
            "justify_content": null,
            "justify_items": null,
            "left": null,
            "margin": null,
            "max_height": null,
            "max_width": null,
            "min_height": null,
            "min_width": null,
            "object_fit": null,
            "object_position": null,
            "order": null,
            "overflow": null,
            "overflow_x": null,
            "overflow_y": null,
            "padding": null,
            "right": null,
            "top": null,
            "visibility": null,
            "width": null
          }
        },
        "ea8e637793764f499f1def196ba6932f": {
          "model_module": "@jupyter-widgets/controls",
          "model_name": "DescriptionStyleModel",
          "model_module_version": "1.5.0",
          "state": {
            "_model_module": "@jupyter-widgets/controls",
            "_model_module_version": "1.5.0",
            "_model_name": "DescriptionStyleModel",
            "_view_count": null,
            "_view_module": "@jupyter-widgets/base",
            "_view_module_version": "1.2.0",
            "_view_name": "StyleView",
            "description_width": ""
          }
        },
        "0cd63e6fef1f48048a93188267cd6be3": {
          "model_module": "@jupyter-widgets/base",
          "model_name": "LayoutModel",
          "model_module_version": "1.2.0",
          "state": {
            "_model_module": "@jupyter-widgets/base",
            "_model_module_version": "1.2.0",
            "_model_name": "LayoutModel",
            "_view_count": null,
            "_view_module": "@jupyter-widgets/base",
            "_view_module_version": "1.2.0",
            "_view_name": "LayoutView",
            "align_content": null,
            "align_items": null,
            "align_self": null,
            "border": null,
            "bottom": null,
            "display": null,
            "flex": null,
            "flex_flow": null,
            "grid_area": null,
            "grid_auto_columns": null,
            "grid_auto_flow": null,
            "grid_auto_rows": null,
            "grid_column": null,
            "grid_gap": null,
            "grid_row": null,
            "grid_template_areas": null,
            "grid_template_columns": null,
            "grid_template_rows": null,
            "height": null,
            "justify_content": null,
            "justify_items": null,
            "left": null,
            "margin": null,
            "max_height": null,
            "max_width": null,
            "min_height": null,
            "min_width": null,
            "object_fit": null,
            "object_position": null,
            "order": null,
            "overflow": null,
            "overflow_x": null,
            "overflow_y": null,
            "padding": null,
            "right": null,
            "top": null,
            "visibility": null,
            "width": null
          }
        },
        "bc82d1bbf1d94735b684ef3d6ee7d18b": {
          "model_module": "@jupyter-widgets/controls",
          "model_name": "ProgressStyleModel",
          "model_module_version": "1.5.0",
          "state": {
            "_model_module": "@jupyter-widgets/controls",
            "_model_module_version": "1.5.0",
            "_model_name": "ProgressStyleModel",
            "_view_count": null,
            "_view_module": "@jupyter-widgets/base",
            "_view_module_version": "1.2.0",
            "_view_name": "StyleView",
            "bar_color": null,
            "description_width": ""
          }
        },
        "c876885a8fbe416eb9bf29ab95cfce18": {
          "model_module": "@jupyter-widgets/base",
          "model_name": "LayoutModel",
          "model_module_version": "1.2.0",
          "state": {
            "_model_module": "@jupyter-widgets/base",
            "_model_module_version": "1.2.0",
            "_model_name": "LayoutModel",
            "_view_count": null,
            "_view_module": "@jupyter-widgets/base",
            "_view_module_version": "1.2.0",
            "_view_name": "LayoutView",
            "align_content": null,
            "align_items": null,
            "align_self": null,
            "border": null,
            "bottom": null,
            "display": null,
            "flex": null,
            "flex_flow": null,
            "grid_area": null,
            "grid_auto_columns": null,
            "grid_auto_flow": null,
            "grid_auto_rows": null,
            "grid_column": null,
            "grid_gap": null,
            "grid_row": null,
            "grid_template_areas": null,
            "grid_template_columns": null,
            "grid_template_rows": null,
            "height": null,
            "justify_content": null,
            "justify_items": null,
            "left": null,
            "margin": null,
            "max_height": null,
            "max_width": null,
            "min_height": null,
            "min_width": null,
            "object_fit": null,
            "object_position": null,
            "order": null,
            "overflow": null,
            "overflow_x": null,
            "overflow_y": null,
            "padding": null,
            "right": null,
            "top": null,
            "visibility": null,
            "width": null
          }
        },
        "eb131c5690934bffa3d497b65aa6616e": {
          "model_module": "@jupyter-widgets/controls",
          "model_name": "DescriptionStyleModel",
          "model_module_version": "1.5.0",
          "state": {
            "_model_module": "@jupyter-widgets/controls",
            "_model_module_version": "1.5.0",
            "_model_name": "DescriptionStyleModel",
            "_view_count": null,
            "_view_module": "@jupyter-widgets/base",
            "_view_module_version": "1.2.0",
            "_view_name": "StyleView",
            "description_width": ""
          }
        }
      }
    }
  },
  "cells": [
    {
      "cell_type": "markdown",
      "metadata": {
        "id": "view-in-github",
        "colab_type": "text"
      },
      "source": [
        "<a href=\"https://colab.research.google.com/github/yonatan-co/ViT_replication/blob/main/VIT_Paper_Replecation.ipynb\" target=\"_parent\"><img src=\"https://colab.research.google.com/assets/colab-badge.svg\" alt=\"Open In Colab\"/></a>"
      ]
    },
    {
      "cell_type": "markdown",
      "source": [
        "in this notebook i going to recreate the vison transformer presented at \n",
        "<a link=https://arxiv.org/abs/2010.11929>**\"AN IMAGE IS WORTH 16X16 WORDS:\n",
        "TRANSFORMERS FOR IMAGE RECOGNITION AT SCALE\"**</a>\n",
        "of course this notebook would not be 1 to 1 replcation of this paper\n",
        "but hopefully it will be close :) "
      ],
      "metadata": {
        "id": "R9OPWGnRGJWK"
      }
    },
    {
      "cell_type": "markdown",
      "source": [
        "## project setup"
      ],
      "metadata": {
        "id": "1aSE42VPImcu"
      }
    },
    {
      "cell_type": "code",
      "source": [
        "%pip install -q torchinfo"
      ],
      "metadata": {
        "id": "kTrUf-HfIv7l"
      },
      "execution_count": null,
      "outputs": []
    },
    {
      "cell_type": "code",
      "source": [
        "%pip install -q wandb"
      ],
      "metadata": {
        "id": "apshJD9QJpDI",
        "colab": {
          "base_uri": "https://localhost:8080/"
        },
        "outputId": "0c6de4c7-707c-4a55-b060-2a008b3eae8a"
      },
      "execution_count": null,
      "outputs": [
        {
          "output_type": "stream",
          "name": "stdout",
          "text": [
            "\u001b[K     |████████████████████████████████| 1.9 MB 4.4 MB/s \n",
            "\u001b[K     |████████████████████████████████| 182 kB 88.4 MB/s \n",
            "\u001b[K     |████████████████████████████████| 174 kB 92.6 MB/s \n",
            "\u001b[K     |████████████████████████████████| 62 kB 1.8 MB/s \n",
            "\u001b[K     |████████████████████████████████| 173 kB 90.8 MB/s \n",
            "\u001b[K     |████████████████████████████████| 168 kB 77.1 MB/s \n",
            "\u001b[K     |████████████████████████████████| 168 kB 92.6 MB/s \n",
            "\u001b[K     |████████████████████████████████| 166 kB 94.1 MB/s \n",
            "\u001b[K     |████████████████████████████████| 166 kB 80.8 MB/s \n",
            "\u001b[K     |████████████████████████████████| 162 kB 100.0 MB/s \n",
            "\u001b[K     |████████████████████████████████| 162 kB 95.8 MB/s \n",
            "\u001b[K     |████████████████████████████████| 158 kB 100.1 MB/s \n",
            "\u001b[K     |████████████████████████████████| 157 kB 69.8 MB/s \n",
            "\u001b[K     |████████████████████████████████| 157 kB 100.2 MB/s \n",
            "\u001b[K     |████████████████████████████████| 157 kB 100.3 MB/s \n",
            "\u001b[K     |████████████████████████████████| 157 kB 100.6 MB/s \n",
            "\u001b[K     |████████████████████████████████| 157 kB 97.8 MB/s \n",
            "\u001b[K     |████████████████████████████████| 157 kB 102.9 MB/s \n",
            "\u001b[K     |████████████████████████████████| 157 kB 93.9 MB/s \n",
            "\u001b[K     |████████████████████████████████| 156 kB 99.7 MB/s \n",
            "\u001b[?25h  Building wheel for pathtools (setup.py) ... \u001b[?25l\u001b[?25hdone\n"
          ]
        }
      ]
    },
    {
      "cell_type": "code",
      "source": [
        "import torch\n",
        "from torchvision import transforms, datasets\n",
        "from torchinfo import summary\n",
        "from torch.nn import CrossEntropyLoss, Conv2d, Flatten, Module, Parameter, LayerNorm, MultiheadAttention, Sequential, Linear, GELU, Dropout\n",
        "from torch.optim import Adam\n",
        "from torch.utils.data import DataLoader\n",
        "\n",
        "import numpy as np\n",
        "import os \n",
        "import wandb\n",
        "import matplotlib.pyplot as plt"
      ],
      "metadata": {
        "id": "2Yhdp2gLIolw"
      },
      "execution_count": null,
      "outputs": []
    },
    {
      "cell_type": "code",
      "source": [
        "# import my humble utility module \n",
        "try:\n",
        "    from torch_utils import data_setup, engine\n",
        "except:\n",
        "    print('cloning https://github.com/yonatan-co/torch_utils.git ...')\n",
        "    !git clone https://github.com/yonatan-co/torch_utils.git\n",
        "    !rm torch_utils/README.md"
      ],
      "metadata": {
        "id": "ywjp77rJJEXX",
        "colab": {
          "base_uri": "https://localhost:8080/"
        },
        "outputId": "066ee770-b49f-48c1-822c-76f57ad30ac9"
      },
      "execution_count": null,
      "outputs": [
        {
          "output_type": "stream",
          "name": "stdout",
          "text": [
            "cloning https://github.com/yonatan-co/torch_utils.git ...\n",
            "Cloning into 'torch_utils'...\n",
            "remote: Enumerating objects: 33, done.\u001b[K\n",
            "remote: Counting objects: 100% (33/33), done.\u001b[K\n",
            "remote: Compressing objects: 100% (32/32), done.\u001b[K\n",
            "remote: Total 33 (delta 15), reused 0 (delta 0), pack-reused 0\u001b[K\n",
            "Unpacking objects: 100% (33/33), done.\n"
          ]
        }
      ]
    },
    {
      "cell_type": "code",
      "source": [
        "# setup environment variables\n",
        "BATCH_SIZE = 32 # sorry i dont have money for 4096 size batchs 💗\n",
        "IMG_SIZE = 224\n",
        "LEARNING_RATE = 0.01\n",
        "EPOCHS = 5\n",
        "ATTENTION_HEADS = 12\n",
        "MLP_SIZE = 3072"
      ],
      "metadata": {
        "id": "TcGwKSOkJ2SG"
      },
      "execution_count": null,
      "outputs": []
    },
    {
      "cell_type": "code",
      "source": [
        "# getting google's precious GPU\n",
        "device = \"cuda\" if torch.cuda.is_available() else \"cpu\""
      ],
      "metadata": {
        "id": "MGbCSUCOKKFu"
      },
      "execution_count": null,
      "outputs": []
    },
    {
      "cell_type": "markdown",
      "source": [
        "## dataset setpup\n",
        "first of all we need to get some data, we will use the cifar-10 Dataset. "
      ],
      "metadata": {
        "id": "h6H-ebumHuyH"
      }
    },
    {
      "cell_type": "code",
      "source": [
        "# set up a transform\n",
        "data_transform = transforms.Compose([\n",
        "    transforms.Resize((IMG_SIZE, IMG_SIZE)),\n",
        "    transforms.ToTensor()\n",
        "]) # Note: no normaliztion beacuse the model includes Layer normalization. \n",
        "\n",
        "print(f\"data transform: {data_transform}\")"
      ],
      "metadata": {
        "colab": {
          "base_uri": "https://localhost:8080/"
        },
        "id": "8Wn-3-UNLS4m",
        "outputId": "ed72907b-0709-4a4f-f6d6-2669c228e3e5"
      },
      "execution_count": null,
      "outputs": [
        {
          "output_type": "stream",
          "name": "stdout",
          "text": [
            "data transform: Compose(\n",
            "    Resize(size=(224, 224), interpolation=bilinear, max_size=None, antialias=None)\n",
            "    ToTensor()\n",
            ")\n"
          ]
        }
      ]
    },
    {
      "cell_type": "code",
      "source": [
        "# train data\n",
        "n_workers = os.cpu_count() # check how much workers avilable\n",
        "\n",
        "train = datasets.CIFAR10(root=\"./data\",\n",
        "                         train=True,\n",
        "                         transform=data_transform,\n",
        "                         download=True)\n",
        "train_dataloader = DataLoader(train,\n",
        "                              batch_size=BATCH_SIZE,\n",
        "                              shuffle=True,\n",
        "                              num_workers=n_workers)"
      ],
      "metadata": {
        "colab": {
          "base_uri": "https://localhost:8080/",
          "height": 84,
          "referenced_widgets": [
            "88efcb25db7c4b389bd73eb8b8f746f3",
            "58a0ee6117aa4698ae3e0bcf0dea6f41",
            "fce7d53d585549bab185c21deecd3572",
            "3a83f4ceadeb4017891d6e3bf08043b9",
            "92989c9487d6458884726c900ba68715",
            "4c92cae309ef4ae48bf1a393ceeb002f",
            "70165be2ee4040ec9be38c804e457581",
            "8653c1d1fe654676ab26930ae0808051",
            "21b7c6d646be401c8293649a4012a7ee",
            "7aa1804278cb4572be54bb551a87f46a",
            "cd39a84f506c4eeea287c3d06e0dc1dd"
          ]
        },
        "id": "2IA1hSxQMywp",
        "outputId": "a64d7b69-f80d-4e97-856d-af7e96a850be"
      },
      "execution_count": null,
      "outputs": [
        {
          "output_type": "stream",
          "name": "stdout",
          "text": [
            "Downloading https://www.cs.toronto.edu/~kriz/cifar-10-python.tar.gz to ./data/cifar-10-python.tar.gz\n"
          ]
        },
        {
          "output_type": "display_data",
          "data": {
            "text/plain": [
              "  0%|          | 0/170498071 [00:00<?, ?it/s]"
            ],
            "application/vnd.jupyter.widget-view+json": {
              "version_major": 2,
              "version_minor": 0,
              "model_id": "88efcb25db7c4b389bd73eb8b8f746f3"
            }
          },
          "metadata": {}
        },
        {
          "output_type": "stream",
          "name": "stdout",
          "text": [
            "Extracting ./data/cifar-10-python.tar.gz to ./data\n"
          ]
        }
      ]
    },
    {
      "cell_type": "code",
      "source": [
        "# test data\n",
        "test = datasets.CIFAR10(root=\"./data\",\n",
        "                         train=False,\n",
        "                         transform=data_transform,\n",
        "                         download=True)\n",
        "test_dataloader = DataLoader(test,\n",
        "                              batch_size=BATCH_SIZE,\n",
        "                              shuffle=True,\n",
        "                              num_workers=n_workers)"
      ],
      "metadata": {
        "colab": {
          "base_uri": "https://localhost:8080/"
        },
        "id": "aMVZn0BxO5iw",
        "outputId": "ce69c082-d83e-4f64-d6c8-c694a7d65168"
      },
      "execution_count": null,
      "outputs": [
        {
          "output_type": "stream",
          "name": "stdout",
          "text": [
            "Files already downloaded and verified\n"
          ]
        }
      ]
    },
    {
      "cell_type": "code",
      "source": [
        "class_names = train.classes\n",
        "class_names"
      ],
      "metadata": {
        "colab": {
          "base_uri": "https://localhost:8080/"
        },
        "id": "XTUKZLnJPTLQ",
        "outputId": "db596aec-dd49-469f-ab42-0bd84fdeff4c"
      },
      "execution_count": null,
      "outputs": [
        {
          "output_type": "execute_result",
          "data": {
            "text/plain": [
              "['airplane',\n",
              " 'automobile',\n",
              " 'bird',\n",
              " 'cat',\n",
              " 'deer',\n",
              " 'dog',\n",
              " 'frog',\n",
              " 'horse',\n",
              " 'ship',\n",
              " 'truck']"
            ]
          },
          "metadata": {},
          "execution_count": 10
        }
      ]
    },
    {
      "cell_type": "markdown",
      "source": [
        "lets see some cifar10s or somethig"
      ],
      "metadata": {
        "id": "IQFrDnuGRH7J"
      }
    },
    {
      "cell_type": "code",
      "source": [
        "\n",
        "# get a data sample\n",
        "img_batch, label_batch = next(iter(train_dataloader)) \n",
        "img, label = img_batch[0], label_batch[0]\n",
        "\n",
        "# plot it\n",
        "plt.imshow(np.transpose(img.numpy()))\n",
        "plt.axis(False)\n",
        "plt.title(class_names[label.item()]);"
      ],
      "metadata": {
        "colab": {
          "base_uri": "https://localhost:8080/",
          "height": 264
        },
        "id": "141tXmkURSAW",
        "outputId": "bc688956-8ed1-4e9d-c861-f3d9ff957af8"
      },
      "execution_count": null,
      "outputs": [
        {
          "output_type": "display_data",
          "data": {
            "text/plain": [
              "<Figure size 432x288 with 1 Axes>"
            ],
            "image/png": "[encoded data removed]"
          },
          "metadata": {
            "needs_background": "light"
          }
        }
      ]
    },
    {
      "cell_type": "markdown",
      "source": [
        "nice, now to the fun part!"
      ],
      "metadata": {
        "id": "L66Ka6FRTUcB"
      }
    },
    {
      "cell_type": "markdown",
      "source": [
        "## Vit overview "
      ],
      "metadata": {
        "id": "700TFAw0UsKw"
      }
    },
    {
      "cell_type": "markdown",
      "source": [
        "first of all one thing to know, in the paper the model feed of **patches** , i.e the image splited to smaller chunks."
      ],
      "metadata": {
        "id": "ILYIfcfzWzKj"
      }
    },
    {
      "cell_type": "markdown",
      "source": [
        "![08-vit-paper-four-equations.png](data:image/png;base64,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)"
      ],
      "metadata": {
        "id": "xBUp8FiMUSoj"
      }
    },
    {
      "cell_type": "markdown",
      "source": [
        "so in the vit paper we have these equations, they might look scary but they are actully just the model breaked down to pices.\n",
        "lets go over it briefliy:\n",
        "\n",
        "1.   so the first equation is about the class token, patch embedding and the position embedding in the input.\n",
        "you can see it as the description of the embedding process.\n",
        "\n",
        "2.   the second equation is more straight forward, any layer from one to L(i.e the total number of layers) going through a Layer Normalizer and then thorugh multi-headed attention. and to that we add the output of skip residual connection.\n",
        "\n",
        "3. the third equation is very similer the previous one, we pass the output of the previous equation (i.e actually the previous block) into Layer Normalization\n",
        "and then into Multi layer perceptron(i.e fancy way to say Linear/Dense model).\n",
        "at the end we have another residual skip connection.\n",
        "\n",
        "4. and the last equation is actually our output layer, a linear layer wrapped with another layer normalization.\n",
        "*taking a breath*\n"
      ],
      "metadata": {
        "id": "uVxvtABjUYTZ"
      }
    },
    {
      "cell_type": "markdown",
      "source": [
        "## creating the Vision Transformer! 🥳"
      ],
      "metadata": {
        "id": "7NXzFJ3ab3BE"
      }
    },
    {
      "cell_type": "markdown",
      "source": [
        "maybe not quite yet, we need to go through some steps first..."
      ],
      "metadata": {
        "id": "_AnZtMtpf6cJ"
      }
    },
    {
      "cell_type": "markdown",
      "source": [
        "### splitting images to patches (demo)\n",
        "first we must find a way to turn our images to patches...\n",
        "so how we gonna do it?\n",
        "well Conv2D layer actully does just that and it will take care of the patch embedding too because it will produce feature maps."
      ],
      "metadata": {
        "id": "tWcJNMCTgTBg"
      }
    },
    {
      "cell_type": "code",
      "source": [
        "C = 3 # input color channels\n",
        "EMBEDDING_SIZE = 768 # in the paper its mentioned as 'Hidden Size D' \n",
        "PATCH_SIZE = 16\n",
        "\n",
        "patcher = Conv2d(in_channels=C,\n",
        "                 out_channels=EMBEDDING_SIZE,\n",
        "                 kernel_size=PATCH_SIZE,\n",
        "                 stride=PATCH_SIZE,\n",
        "                 padding=0)\n",
        "\n",
        "# Note: the reason why we set the stride to PATCH_SIZE is beacuse we want each \n",
        "# pixel to be belong exclusively to one patch."
      ],
      "metadata": {
        "id": "rIlLCHrNggR4"
      },
      "execution_count": null,
      "outputs": []
    },
    {
      "cell_type": "markdown",
      "source": [
        "so we got our patcher (idk if the term is a real thing).\n",
        "the patcher get 2D image and outputs a 16 diffrent sets of 2D embeddings."
      ],
      "metadata": {
        "id": "rgdez069l0TK"
      }
    },
    {
      "cell_type": "code",
      "source": [
        "# lets see it in action\n",
        "feature_maps = patcher(img.unsqueeze(0))\n",
        "print(f\"{img.shape} --> {feature_maps.shape}\")"
      ],
      "metadata": {
        "colab": {
          "base_uri": "https://localhost:8080/"
        },
        "id": "elx7IVcBmQhE",
        "outputId": "a21da3b7-2683-46fc-f565-c3df3362dba0"
      },
      "execution_count": null,
      "outputs": [
        {
          "output_type": "stream",
          "name": "stdout",
          "text": [
            "torch.Size([3, 224, 224]) --> torch.Size([1, 768, 14, 14])\n"
          ]
        }
      ]
    },
    {
      "cell_type": "markdown",
      "source": [
        "### Flatten & Rearrange our feature maps (demo)\n",
        "currently out feature maps shape look somthing like this: (batch_size, 768, 14, 14), thats great but we still need to Flatten and Rearrange, at the end we want te recive\n",
        "somthing like this (batch_size, 194, 768)"
      ],
      "metadata": {
        "id": "KzQz3OR-7YUI"
      }
    },
    {
      "cell_type": "code",
      "source": [
        "# creating a layer to flatten (14,14) into 196 \n",
        "flatten = Flatten(start_dim=2, \n",
        "                  end_dim=3)\n",
        "\n",
        "flattened_feature_maps = flatten(feature_maps)\n",
        "print(f\"{feature_maps.shape} --> {flattened_feature_maps.shape}\")"
      ],
      "metadata": {
        "colab": {
          "base_uri": "https://localhost:8080/"
        },
        "id": "2FSKZOeZ8-Ns",
        "outputId": "167c4512-d333-47ef-8473-81cacfc99c55"
      },
      "execution_count": null,
      "outputs": [
        {
          "output_type": "stream",
          "name": "stdout",
          "text": [
            "torch.Size([1, 768, 14, 14]) --> torch.Size([1, 768, 196])\n"
          ]
        }
      ]
    },
    {
      "cell_type": "code",
      "source": [
        "# all we have left is to rearrange the shape of the feature maps\n",
        "rearanged_maps = flattened_feature_maps.permute(0, 2, 1) # dim 0 -> 0; dim 2 -> 1; dim 1 -> 2\n",
        "print(f\"{flattened_feature_maps.shape} --> {rearanged_maps.shape}\")"
      ],
      "metadata": {
        "colab": {
          "base_uri": "https://localhost:8080/"
        },
        "id": "SUZuI3tg-Vog",
        "outputId": "8d81105b-3002-47c1-9db0-b3073607a35e"
      },
      "execution_count": null,
      "outputs": [
        {
          "output_type": "stream",
          "name": "stdout",
          "text": [
            "torch.Size([1, 768, 196]) --> torch.Size([1, 196, 768])\n"
          ]
        }
      ]
    },
    {
      "cell_type": "markdown",
      "source": [
        "### creating complete embedding model\n",
        "cool, so we got our steps for patch embedding ready, now lets put it all together. "
      ],
      "metadata": {
        "id": "E5wTY8mg_9uK"
      }
    },
    {
      "cell_type": "code",
      "source": [
        "class PatchEmbedding(Module):\n",
        "    \"\"\"Turns a 2D input image into a 1D sequence learnable embedding vector.\n",
        "    \n",
        "    Args:\n",
        "        in_channels (int): Number of color channels for the input images. Defaults to 3.\n",
        "        patch_size (int): Size of patches to convert input image into. Defaults to 16.\n",
        "        embedding_dim (int): Size of embedding to turn image into. Defaults to 768.\n",
        "    \"\"\" \n",
        "    # 2. Initialize the class with appropriate variables\n",
        "    def __init__(self, \n",
        "                 in_channels:int=3,\n",
        "                 patch_size:int=16,\n",
        "                 embedding_dim:int=768):\n",
        "        super().__init__()\n",
        "        self.patch_size = patch_size\n",
        "        # 3. Create a layer to turn an image into patches\n",
        "        self.patcher = Conv2d(in_channels=in_channels,\n",
        "                                 out_channels=embedding_dim,\n",
        "                                 kernel_size=patch_size,\n",
        "                                 stride=patch_size,\n",
        "                                 padding=0)\n",
        "\n",
        "        \n",
        "        self.flatten = Flatten(start_dim=2,\n",
        "                                  end_dim=3)\n",
        "\n",
        "    \n",
        "    def forward(self, x):\n",
        "        # Create assertion to check that inputs are the correct shape\n",
        "        image_resolution = x.shape[-1]\n",
        "        assert image_resolution % self.patch_size == 0, 'squred image size must be divided by squred patch size'\n",
        "        \n",
        "        # Perform the forward pass\n",
        "        x_patched = self.patcher(x)\n",
        "        x_flattened = self.flatten(x_patched) \n",
        "        # 6. Make sure the output shape has the right order \n",
        "        return x_flattened.permute(0, 2, 1) # adjust so the embedding is on the final dimension [batch_size, P^2•C, N] -> [batch_size, N, P^2•C]\n"
      ],
      "metadata": {
        "id": "JnUrfFsSAa-_"
      },
      "execution_count": null,
      "outputs": []
    },
    {
      "cell_type": "code",
      "source": [
        "p = PatchEmbedding()\n",
        "p(img.unsqueeze(0)).shape"
      ],
      "metadata": {
        "colab": {
          "base_uri": "https://localhost:8080/"
        },
        "id": "v_NgRhhdFyWe",
        "outputId": "e50d5242-2ec2-48ce-fa20-1a1477457d57"
      },
      "execution_count": null,
      "outputs": [
        {
          "output_type": "execute_result",
          "data": {
            "text/plain": [
              "torch.Size([1, 196, 768])"
            ]
          },
          "metadata": {},
          "execution_count": 17
        }
      ]
    },
    {
      "cell_type": "markdown",
      "source": [
        "cool, coocoocool.\n",
        "now we have a class to create patch embedding blocks what's next?"
      ],
      "metadata": {
        "id": "ksHtMUbZHfd0"
      }
    },
    {
      "cell_type": "markdown",
      "source": [
        "### class token embedding\n",
        "what is class token embedding you ask?\n",
        "well effectively just another trainable Parameter.\n",
        "it will have the shape of (batch_size, 1, embedding_dim)"
      ],
      "metadata": {
        "id": "0dVIh60ZGllL"
      }
    },
    {
      "cell_type": "code",
      "source": [
        "class_token = Parameter(torch.ones(BATCH_SIZE, 1, EMBEDDING_SIZE),\n",
        "                        requires_grad=True)"
      ],
      "metadata": {
        "id": "dC4kK0tElxKa"
      },
      "execution_count": null,
      "outputs": []
    },
    {
      "cell_type": "markdown",
      "source": [
        "### position embeddings\n",
        "the idea of postion embeddings is to give our model sense of localation, what is known to be the main drowback of vision transformers."
      ],
      "metadata": {
        "id": "aVEaT-1noSJy"
      }
    },
    {
      "cell_type": "code",
      "source": [
        "number_of_patches = int((IMG_SIZE * IMG_SIZE) / PATCH_SIZE**2)\n",
        "\n",
        "position_embedding = Parameter(torch.ones(1,\n",
        "                                             number_of_patches+1, \n",
        "                                             EMBEDDING_SIZE),\n",
        "                                  requires_grad=True)"
      ],
      "metadata": {
        "id": "xsMwlVx3pDq0"
      },
      "execution_count": null,
      "outputs": []
    },
    {
      "cell_type": "markdown",
      "source": [
        "\n",
        "So we have our embedding ready, now we need to take care of the second equation,\n",
        "the multi-head attention block.\n",
        "### MSA block"
      ],
      "metadata": {
        "id": "eypmww6oO7WW"
      }
    },
    {
      "cell_type": "markdown",
      "source": [
        "\n",
        "![Capture.PNG](data:image/png;base64,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)\n",
        "\n",
        "the MSA block is pretty straight forword, a layer normalization followed by a multi-head attention layer."
      ],
      "metadata": {
        "id": "d0Ul1or-PIMe"
      }
    },
    {
      "cell_type": "code",
      "source": [
        "class MSABlock(Module):\n",
        "  def __init__(self,\n",
        "               embedding_dim: int=768,\n",
        "               num_heads: int=12,\n",
        "               attention_dropout: int=0) -> None:\n",
        "    super().__init__()\n",
        "\n",
        "    self.layer_normalization = LayerNorm(normalized_shape=embedding_dim)\n",
        "\n",
        "    self.attention = MultiheadAttention(embed_dim=embedding_dim,\n",
        "                                        num_heads=num_heads,\n",
        "                                        dropout=attention_dropout,\n",
        "                                        batch_first=True)\n",
        "  def forward(self, input):\n",
        "    x = self.layer_normalization(input)\n",
        "    x = self.attention(query=x, \n",
        "                          key=x, \n",
        "                          value=x, \n",
        "                          need_weights=False)\n",
        "    return x[0] # the MultiheadAttention layer returns a tuple\n",
        "    "
      ],
      "metadata": {
        "id": "sCy5JjwjR5rW"
      },
      "execution_count": null,
      "outputs": []
    },
    {
      "cell_type": "markdown",
      "source": [
        "### MLP Block\n",
        "\n",
        "![Capture.PNG](data:image/png;base64,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)\n",
        "\n",
        "MLP stands for Multilayer Perceptron, sounds fancy but it really is just a Dense model (or Linear if you wish) that is not 'Deep' enough.\n",
        "specifically in the Vit Paper, the MLPs contein 2 Linear layers each followed\n",
        "by GELU non-linearity and a dropout layer.\n",
        "ah and here we also pass the input through layer normalization first."
      ],
      "metadata": {
        "id": "D-zvp0AVYdm_"
      }
    },
    {
      "cell_type": "code",
      "source": [
        "\n",
        "class MLPBlock(Module):\n",
        "  def __init__(self,\n",
        "               embedding_dim: int=768,\n",
        "               mlp_size: int=3072,\n",
        "               dropout_rate: int=0.1) -> None:\n",
        "    super().__init__()\n",
        "\n",
        "    self.layer_normalization = LayerNorm(embedding_dim)\n",
        "\n",
        "    self.mlp_block = Sequential(\n",
        "        Linear(in_features=embedding_dim,\n",
        "               out_features=mlp_size),\n",
        "        GELU(),\n",
        "        Dropout(dropout_rate),\n",
        "        Linear(in_features=mlp_size,\n",
        "               out_features=embedding_dim),\n",
        "        GELU(),\n",
        "        Dropout(dropout_rate),\n",
        "    )\n",
        "\n",
        "  def forward(self, input):\n",
        "    x = self.layer_normalization(input)\n",
        "    x = self.mlp_block(x)\n",
        "    return x"
      ],
      "metadata": {
        "id": "flxlv5mRaMCB"
      },
      "execution_count": null,
      "outputs": []
    },
    {
      "cell_type": "markdown",
      "source": [
        "### bulding the transformer encoder\n",
        "we prepared all the bulding blocks necessery to bulid our transformer.\n",
        "lets take a look at its architecture:\n",
        "\n",
        "![image.png](data:image/png;base64,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)\n",
        "\n",
        "so, besides the blocks we prepared we also have residual connections(the '+' signs), the idea is very simple add the output of the layer to the input."
      ],
      "metadata": {
        "id": "JAGWz0bqiPtU"
      }
    },
    {
      "cell_type": "code",
      "source": [
        "class TransformerEncoder(Module):\n",
        "  def __init__(self,\n",
        "               embedding_dim: int=768,\n",
        "               num_heads: int=12,\n",
        "               attention_dropout: int=0,\n",
        "               mlp_size: int=3072,\n",
        "               dropout_rate: int=0.1) -> None:\n",
        "    super().__init__()\n",
        "    self.msa_block = MSABlock(embedding_dim=embedding_dim,\n",
        "                              num_heads=num_heads,\n",
        "                              attention_dropout=attention_dropout)\n",
        "    \n",
        "    self.mlp_block = MLPBlock(embedding_dim=embedding_dim,\n",
        "                              mlp_size=mlp_size,\n",
        "                              dropout_rate=dropout_rate)\n",
        "  \n",
        "  def forward(self, input):\n",
        "    msa_output = self.msa_block(input) + input # '+input' is the residual connection\n",
        "\n",
        "    mlp_output = self.mlp_block(msa_output)\n",
        "    output = mlp_output + msa_output\n",
        "    return output"
      ],
      "metadata": {
        "id": "-vC-f3K6iuwb"
      },
      "execution_count": null,
      "outputs": []
    },
    {
      "cell_type": "markdown",
      "source": [
        "### its VIT Time! 😈\n",
        "now we are going to put all of this together into one model.\n",
        "\n",
        "![Capture.PNG](data:image/png;base64,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)"
      ],
      "metadata": {
        "id": "AetfwSExsiie"
      }
    },
    {
      "cell_type": "code",
      "source": [
        "class VisionTransformer(Module):\n",
        "  def __init__(self,\n",
        "               layers: int=12,\n",
        "               in_channels: int=3,\n",
        "               out_shape: int=10,\n",
        "               patch_size: int=16,\n",
        "               embedding_dim: int=768,\n",
        "               num_heads: int=12,\n",
        "               attention_dropout: int=0,\n",
        "               mlp_size: int=3072,\n",
        "               dropout_rate: int=0.1,\n",
        "               img_size: int=224) -> None:\n",
        "    super().__init__()\n",
        "\n",
        "    self.n_patchs = int((img_size**2) / (patch_size**2))\n",
        "\n",
        "    self.patch_embedding = PatchEmbedding(in_channels=in_channels,\n",
        "                                               patch_size=patch_size,\n",
        "                                               embedding_dim=embedding_dim)\n",
        "    \n",
        "    self.class_token_embedding = Parameter(torch.randn(1, 1, embedding_dim),\n",
        "                                           requires_grad=True)\n",
        "    \n",
        "    self.position_embedding = Parameter(data=torch.randn(1,\n",
        "                                             self.n_patchs+1, \n",
        "                                             embedding_dim\n",
        "                                             ).type(torch.float),\n",
        "                                  requires_grad=True)\n",
        "    \n",
        "    self.dropout = Dropout(dropout_rate)\n",
        "    \n",
        "    self.transformer_encoder = Sequential(*[TransformerEncoder(embedding_dim=embedding_dim,\n",
        "                                                  num_heads=num_heads,\n",
        "                                                  attention_dropout=attention_dropout,\n",
        "                                                  mlp_size=mlp_size,\n",
        "                                                  dropout_rate=dropout_rate) for i in range(layers)])\n",
        "\n",
        "    self.classifier = Sequential(\n",
        "        LayerNorm(normalized_shape=embedding_dim),\n",
        "        Linear(in_features=embedding_dim,\n",
        "               out_features=out_shape)\n",
        "    )\n",
        "\n",
        "  def forward(self, z):\n",
        "    batch_size = z.shape[0]\n",
        "        \n",
        "      \n",
        "    class_token = self.class_token_embedding.expand(batch_size, -1, -1) \n",
        "    z = self.patch_embedding(z)\n",
        "\n",
        "    z = torch.cat((class_token, z), dim=1)\n",
        "\n",
        "    z = + self.position_embedding + z \n",
        "\n",
        "    z = self.transformer_encoder(z)\n",
        "\n",
        "\n",
        "    y = self.classifier(z[:, 0])\n",
        "\n",
        "    return y\n",
        "\n"
      ],
      "metadata": {
        "id": "mdbmZ_fOufPw"
      },
      "execution_count": null,
      "outputs": []
    },
    {
      "cell_type": "markdown",
      "source": [
        "yah, so our model is ready now its time to train it\n",
        " "
      ],
      "metadata": {
        "id": "YAhm9EBX2lsq"
      }
    },
    {
      "cell_type": "markdown",
      "source": [
        "## training the Vision Transformer 🔨"
      ],
      "metadata": {
        "id": "IeECqeZN275c"
      }
    },
    {
      "cell_type": "markdown",
      "source": [
        "### model show-off 🥶"
      ],
      "metadata": {
        "id": "F9oiO8Ht3L26"
      }
    },
    {
      "cell_type": "code",
      "source": [
        "vit = VisionTransformer()\n",
        "vit = vit.to(device)\n",
        "# summary(model=vit, \n",
        "#         input_size=(32, 3, 224, 224), \n",
        "#         col_names=[\"input_size\"], \n",
        "#         col_width=20,\n",
        "#         row_settings=[\"var_names\"])"
      ],
      "metadata": {
        "id": "ccIAsjZV3n2A"
      },
      "execution_count": null,
      "outputs": []
    },
    {
      "cell_type": "markdown",
      "source": [
        "### now to the training "
      ],
      "metadata": {
        "id": "BsYipYkNfX-D"
      }
    },
    {
      "cell_type": "markdown",
      "source": [
        "i will use my premade training loop, just a simple one nothing speical..."
      ],
      "metadata": {
        "id": "TB7pUZ2TfjMb"
      }
    },
    {
      "cell_type": "code",
      "source": [
        "from torch_utils.engine import train"
      ],
      "metadata": {
        "id": "aIRVWMFVfyNT"
      },
      "execution_count": null,
      "outputs": []
    },
    {
      "cell_type": "code",
      "source": [
        "optimizer = torch.optim.Adam(params=vit.parameters(), \n",
        "                             lr=1e-3, \n",
        "                             betas=(0.9, 0.999), \n",
        "                             weight_decay=0.1)\n",
        "loss_fn = torch.nn.CrossEntropyLoss()"
      ],
      "metadata": {
        "id": "wCqWleaFhFhD"
      },
      "execution_count": null,
      "outputs": []
    },
    {
      "cell_type": "code",
      "source": [
        "results = train(model=vit,\n",
        "                train_dataloader=train_dataloader,\n",
        "                test_dataloader=test_dataloader,\n",
        "                optimizer=optimizer,\n",
        "                loss_fn=loss_fn,\n",
        "                epochs=EPOCHS,\n",
        "                device=device,\n",
        "                use_wandb=False # requires wandb.init() \n",
        "                )"
      ],
      "metadata": {
        "colab": {
          "base_uri": "https://localhost:8080/",
          "height": 482,
          "referenced_widgets": [
            "ca06af1a1b934e608fd1127a6b787117",
            "9ddacf0e332647e8ba668ec9e0f250e0",
            "1d73a3f87ff343b2a860dee55a1ecbdb",
            "f61f865294ba44fb82b4e7e08242009c",
            "5e3fcfd4c98640a09cda575efa2c51de",
            "a0d1411f34ea4c20852cde4d804c599d",
            "ea8e637793764f499f1def196ba6932f",
            "0cd63e6fef1f48048a93188267cd6be3",
            "bc82d1bbf1d94735b684ef3d6ee7d18b",
            "c876885a8fbe416eb9bf29ab95cfce18",
            "eb131c5690934bffa3d497b65aa6616e"
          ]
        },
        "id": "L5FV5r0IgjID",
        "outputId": "ae7ebab7-81b6-4ae3-ea6b-a622e661cf5e"
      },
      "execution_count": null,
      "outputs": [
        {
          "output_type": "display_data",
          "data": {
            "text/plain": [
              "  0%|          | 0/5 [00:00<?, ?it/s]"
            ],
            "application/vnd.jupyter.widget-view+json": {
              "version_major": 2,
              "version_minor": 0,
              "model_id": "ca06af1a1b934e608fd1127a6b787117"
            }
          },
          "metadata": {}
        },
        {
          "output_type": "stream",
          "name": "stdout",
          "text": [
            "Epoch: 1 | train_loss: 2.0298 | train_acc: 0.2231 | test_loss: 2.0005 | test_acc: 0.2373\n",
            "Epoch: 2 | train_loss: 2.0299 | train_acc: 0.2285 | test_loss: 1.9924 | test_acc: 0.2425\n"
          ]
        },
        {
          "output_type": "error",
          "ename": "KeyboardInterrupt",
          "evalue": "ignored",
          "traceback": [
            "\u001b[0;31m---------------------------------------------------------------------------\u001b[0m",
            "\u001b[0;31mKeyboardInterrupt\u001b[0m                         Traceback (most recent call last)",
            "\u001b[0;32m<ipython-input-34-77c5f0f2444e>\u001b[0m in \u001b[0;36m<module>\u001b[0;34m\u001b[0m\n\u001b[0;32m----> 1\u001b[0;31m results = train(model=vit,\n\u001b[0m\u001b[1;32m      2\u001b[0m                 \u001b[0mtrain_dataloader\u001b[0m\u001b[0;34m=\u001b[0m\u001b[0mtrain_dataloader\u001b[0m\u001b[0;34m,\u001b[0m\u001b[0;34m\u001b[0m\u001b[0;34m\u001b[0m\u001b[0m\n\u001b[1;32m      3\u001b[0m                 \u001b[0mtest_dataloader\u001b[0m\u001b[0;34m=\u001b[0m\u001b[0mtest_dataloader\u001b[0m\u001b[0;34m,\u001b[0m\u001b[0;34m\u001b[0m\u001b[0;34m\u001b[0m\u001b[0m\n\u001b[1;32m      4\u001b[0m                 \u001b[0moptimizer\u001b[0m\u001b[0;34m=\u001b[0m\u001b[0moptimizer\u001b[0m\u001b[0;34m,\u001b[0m\u001b[0;34m\u001b[0m\u001b[0;34m\u001b[0m\u001b[0m\n\u001b[1;32m      5\u001b[0m                 \u001b[0mloss_fn\u001b[0m\u001b[0;34m=\u001b[0m\u001b[0mloss_fn\u001b[0m\u001b[0;34m,\u001b[0m\u001b[0;34m\u001b[0m\u001b[0;34m\u001b[0m\u001b[0m\n",
            "\u001b[0;32m/content/torch_utils/engine.py\u001b[0m in \u001b[0;36mtrain\u001b[0;34m(model, train_dataloader, test_dataloader, optimizer, loss_fn, epochs, device, use_wandb)\u001b[0m\n\u001b[1;32m    174\u001b[0m     \u001b[0;31m# Loop through training and testing steps for a number of epochs\u001b[0m\u001b[0;34m\u001b[0m\u001b[0;34m\u001b[0m\u001b[0;34m\u001b[0m\u001b[0m\n\u001b[1;32m    175\u001b[0m     \u001b[0;32mfor\u001b[0m \u001b[0mepoch\u001b[0m \u001b[0;32min\u001b[0m \u001b[0mtqdm\u001b[0m\u001b[0;34m(\u001b[0m\u001b[0mrange\u001b[0m\u001b[0;34m(\u001b[0m\u001b[0mepochs\u001b[0m\u001b[0;34m)\u001b[0m\u001b[0;34m)\u001b[0m\u001b[0;34m:\u001b[0m\u001b[0;34m\u001b[0m\u001b[0;34m\u001b[0m\u001b[0m\n\u001b[0;32m--> 176\u001b[0;31m         train_loss, train_acc = train_step(model=model,\n\u001b[0m\u001b[1;32m    177\u001b[0m                                            \u001b[0mdataloader\u001b[0m\u001b[0;34m=\u001b[0m\u001b[0mtrain_dataloader\u001b[0m\u001b[0;34m,\u001b[0m\u001b[0;34m\u001b[0m\u001b[0;34m\u001b[0m\u001b[0m\n\u001b[1;32m    178\u001b[0m                                            \u001b[0mloss_fn\u001b[0m\u001b[0;34m=\u001b[0m\u001b[0mloss_fn\u001b[0m\u001b[0;34m,\u001b[0m\u001b[0;34m\u001b[0m\u001b[0;34m\u001b[0m\u001b[0m\n",
            "\u001b[0;32m/content/torch_utils/engine.py\u001b[0m in \u001b[0;36mtrain_step\u001b[0;34m(model, dataloader, loss_fn, optimizer, device)\u001b[0m\n\u001b[1;32m     59\u001b[0m \u001b[0;34m\u001b[0m\u001b[0m\n\u001b[1;32m     60\u001b[0m       \u001b[0;31m# 5. Optimizer step\u001b[0m\u001b[0;34m\u001b[0m\u001b[0;34m\u001b[0m\u001b[0;34m\u001b[0m\u001b[0m\n\u001b[0;32m---> 61\u001b[0;31m       \u001b[0moptimizer\u001b[0m\u001b[0;34m.\u001b[0m\u001b[0mstep\u001b[0m\u001b[0;34m(\u001b[0m\u001b[0;34m)\u001b[0m\u001b[0;34m\u001b[0m\u001b[0;34m\u001b[0m\u001b[0m\n\u001b[0m\u001b[1;32m     62\u001b[0m \u001b[0;34m\u001b[0m\u001b[0m\n\u001b[1;32m     63\u001b[0m       \u001b[0;31m# Calculate and accumulate accuracy metric across all batches\u001b[0m\u001b[0;34m\u001b[0m\u001b[0;34m\u001b[0m\u001b[0;34m\u001b[0m\u001b[0m\n",
            "\u001b[0;32m/usr/local/lib/python3.8/dist-packages/torch/optim/optimizer.py\u001b[0m in \u001b[0;36mwrapper\u001b[0;34m(*args, **kwargs)\u001b[0m\n\u001b[1;32m    138\u001b[0m                 \u001b[0mprofile_name\u001b[0m \u001b[0;34m=\u001b[0m \u001b[0;34m\"Optimizer.step#{}.step\"\u001b[0m\u001b[0;34m.\u001b[0m\u001b[0mformat\u001b[0m\u001b[0;34m(\u001b[0m\u001b[0mobj\u001b[0m\u001b[0;34m.\u001b[0m\u001b[0m__class__\u001b[0m\u001b[0;34m.\u001b[0m\u001b[0m__name__\u001b[0m\u001b[0;34m)\u001b[0m\u001b[0;34m\u001b[0m\u001b[0;34m\u001b[0m\u001b[0m\n\u001b[1;32m    139\u001b[0m                 \u001b[0;32mwith\u001b[0m \u001b[0mtorch\u001b[0m\u001b[0;34m.\u001b[0m\u001b[0mautograd\u001b[0m\u001b[0;34m.\u001b[0m\u001b[0mprofiler\u001b[0m\u001b[0;34m.\u001b[0m\u001b[0mrecord_function\u001b[0m\u001b[0;34m(\u001b[0m\u001b[0mprofile_name\u001b[0m\u001b[0;34m)\u001b[0m\u001b[0;34m:\u001b[0m\u001b[0;34m\u001b[0m\u001b[0;34m\u001b[0m\u001b[0m\n\u001b[0;32m--> 140\u001b[0;31m                     \u001b[0mout\u001b[0m \u001b[0;34m=\u001b[0m \u001b[0mfunc\u001b[0m\u001b[0;34m(\u001b[0m\u001b[0;34m*\u001b[0m\u001b[0margs\u001b[0m\u001b[0;34m,\u001b[0m \u001b[0;34m**\u001b[0m\u001b[0mkwargs\u001b[0m\u001b[0;34m)\u001b[0m\u001b[0;34m\u001b[0m\u001b[0;34m\u001b[0m\u001b[0m\n\u001b[0m\u001b[1;32m    141\u001b[0m                     \u001b[0mobj\u001b[0m\u001b[0;34m.\u001b[0m\u001b[0m_optimizer_step_code\u001b[0m\u001b[0;34m(\u001b[0m\u001b[0;34m)\u001b[0m\u001b[0;34m\u001b[0m\u001b[0;34m\u001b[0m\u001b[0m\n\u001b[1;32m    142\u001b[0m                     \u001b[0;32mreturn\u001b[0m \u001b[0mout\u001b[0m\u001b[0;34m\u001b[0m\u001b[0;34m\u001b[0m\u001b[0m\n",
            "\u001b[0;32m/usr/local/lib/python3.8/dist-packages/torch/optim/optimizer.py\u001b[0m in \u001b[0;36m_use_grad\u001b[0;34m(self, *args, **kwargs)\u001b[0m\n\u001b[1;32m     21\u001b[0m         \u001b[0;32mtry\u001b[0m\u001b[0;34m:\u001b[0m\u001b[0;34m\u001b[0m\u001b[0;34m\u001b[0m\u001b[0m\n\u001b[1;32m     22\u001b[0m             \u001b[0mtorch\u001b[0m\u001b[0;34m.\u001b[0m\u001b[0mset_grad_enabled\u001b[0m\u001b[0;34m(\u001b[0m\u001b[0mself\u001b[0m\u001b[0;34m.\u001b[0m\u001b[0mdefaults\u001b[0m\u001b[0;34m[\u001b[0m\u001b[0;34m'differentiable'\u001b[0m\u001b[0;34m]\u001b[0m\u001b[0;34m)\u001b[0m\u001b[0;34m\u001b[0m\u001b[0;34m\u001b[0m\u001b[0m\n\u001b[0;32m---> 23\u001b[0;31m             \u001b[0mret\u001b[0m \u001b[0;34m=\u001b[0m \u001b[0mfunc\u001b[0m\u001b[0;34m(\u001b[0m\u001b[0mself\u001b[0m\u001b[0;34m,\u001b[0m \u001b[0;34m*\u001b[0m\u001b[0margs\u001b[0m\u001b[0;34m,\u001b[0m \u001b[0;34m**\u001b[0m\u001b[0mkwargs\u001b[0m\u001b[0;34m)\u001b[0m\u001b[0;34m\u001b[0m\u001b[0;34m\u001b[0m\u001b[0m\n\u001b[0m\u001b[1;32m     24\u001b[0m         \u001b[0;32mfinally\u001b[0m\u001b[0;34m:\u001b[0m\u001b[0;34m\u001b[0m\u001b[0;34m\u001b[0m\u001b[0m\n\u001b[1;32m     25\u001b[0m             \u001b[0mtorch\u001b[0m\u001b[0;34m.\u001b[0m\u001b[0mset_grad_enabled\u001b[0m\u001b[0;34m(\u001b[0m\u001b[0mprev_grad\u001b[0m\u001b[0;34m)\u001b[0m\u001b[0;34m\u001b[0m\u001b[0;34m\u001b[0m\u001b[0m\n",
            "\u001b[0;32m/usr/local/lib/python3.8/dist-packages/torch/optim/adam.py\u001b[0m in \u001b[0;36mstep\u001b[0;34m(self, closure, grad_scaler)\u001b[0m\n\u001b[1;32m    232\u001b[0m                     \u001b[0mstate_steps\u001b[0m\u001b[0;34m.\u001b[0m\u001b[0mappend\u001b[0m\u001b[0;34m(\u001b[0m\u001b[0mstate\u001b[0m\u001b[0;34m[\u001b[0m\u001b[0;34m'step'\u001b[0m\u001b[0;34m]\u001b[0m\u001b[0;34m)\u001b[0m\u001b[0;34m\u001b[0m\u001b[0;34m\u001b[0m\u001b[0m\n\u001b[1;32m    233\u001b[0m \u001b[0;34m\u001b[0m\u001b[0m\n\u001b[0;32m--> 234\u001b[0;31m             adam(params_with_grad,\n\u001b[0m\u001b[1;32m    235\u001b[0m                  \u001b[0mgrads\u001b[0m\u001b[0;34m,\u001b[0m\u001b[0;34m\u001b[0m\u001b[0;34m\u001b[0m\u001b[0m\n\u001b[1;32m    236\u001b[0m                  \u001b[0mexp_avgs\u001b[0m\u001b[0;34m,\u001b[0m\u001b[0;34m\u001b[0m\u001b[0;34m\u001b[0m\u001b[0m\n",
            "\u001b[0;32m/usr/local/lib/python3.8/dist-packages/torch/optim/adam.py\u001b[0m in \u001b[0;36madam\u001b[0;34m(params, grads, exp_avgs, exp_avg_sqs, max_exp_avg_sqs, state_steps, foreach, capturable, differentiable, fused, grad_scale, found_inf, amsgrad, beta1, beta2, lr, weight_decay, eps, maximize)\u001b[0m\n\u001b[1;32m    298\u001b[0m         \u001b[0mfunc\u001b[0m \u001b[0;34m=\u001b[0m \u001b[0m_single_tensor_adam\u001b[0m\u001b[0;34m\u001b[0m\u001b[0;34m\u001b[0m\u001b[0m\n\u001b[1;32m    299\u001b[0m \u001b[0;34m\u001b[0m\u001b[0m\n\u001b[0;32m--> 300\u001b[0;31m     func(params,\n\u001b[0m\u001b[1;32m    301\u001b[0m          \u001b[0mgrads\u001b[0m\u001b[0;34m,\u001b[0m\u001b[0;34m\u001b[0m\u001b[0;34m\u001b[0m\u001b[0m\n\u001b[1;32m    302\u001b[0m          \u001b[0mexp_avgs\u001b[0m\u001b[0;34m,\u001b[0m\u001b[0;34m\u001b[0m\u001b[0;34m\u001b[0m\u001b[0m\n",
            "\u001b[0;32m/usr/local/lib/python3.8/dist-packages/torch/optim/adam.py\u001b[0m in \u001b[0;36m_single_tensor_adam\u001b[0;34m(params, grads, exp_avgs, exp_avg_sqs, max_exp_avg_sqs, state_steps, grad_scale, found_inf, amsgrad, beta1, beta2, lr, weight_decay, eps, maximize, capturable, differentiable)\u001b[0m\n\u001b[1;32m    361\u001b[0m \u001b[0;34m\u001b[0m\u001b[0m\n\u001b[1;32m    362\u001b[0m         \u001b[0;31m# Decay the first and second moment running average coefficient\u001b[0m\u001b[0;34m\u001b[0m\u001b[0;34m\u001b[0m\u001b[0;34m\u001b[0m\u001b[0m\n\u001b[0;32m--> 363\u001b[0;31m         \u001b[0mexp_avg\u001b[0m\u001b[0;34m.\u001b[0m\u001b[0mmul_\u001b[0m\u001b[0;34m(\u001b[0m\u001b[0mbeta1\u001b[0m\u001b[0;34m)\u001b[0m\u001b[0;34m.\u001b[0m\u001b[0madd_\u001b[0m\u001b[0;34m(\u001b[0m\u001b[0mgrad\u001b[0m\u001b[0;34m,\u001b[0m \u001b[0malpha\u001b[0m\u001b[0;34m=\u001b[0m\u001b[0;36m1\u001b[0m \u001b[0;34m-\u001b[0m \u001b[0mbeta1\u001b[0m\u001b[0;34m)\u001b[0m\u001b[0;34m\u001b[0m\u001b[0;34m\u001b[0m\u001b[0m\n\u001b[0m\u001b[1;32m    364\u001b[0m         \u001b[0mexp_avg_sq\u001b[0m\u001b[0;34m.\u001b[0m\u001b[0mmul_\u001b[0m\u001b[0;34m(\u001b[0m\u001b[0mbeta2\u001b[0m\u001b[0;34m)\u001b[0m\u001b[0;34m.\u001b[0m\u001b[0maddcmul_\u001b[0m\u001b[0;34m(\u001b[0m\u001b[0mgrad\u001b[0m\u001b[0;34m,\u001b[0m \u001b[0mgrad\u001b[0m\u001b[0;34m.\u001b[0m\u001b[0mconj\u001b[0m\u001b[0;34m(\u001b[0m\u001b[0;34m)\u001b[0m\u001b[0;34m,\u001b[0m \u001b[0mvalue\u001b[0m\u001b[0;34m=\u001b[0m\u001b[0;36m1\u001b[0m \u001b[0;34m-\u001b[0m \u001b[0mbeta2\u001b[0m\u001b[0;34m)\u001b[0m\u001b[0;34m\u001b[0m\u001b[0;34m\u001b[0m\u001b[0m\n\u001b[1;32m    365\u001b[0m \u001b[0;34m\u001b[0m\u001b[0m\n",
            "\u001b[0;31mKeyboardInterrupt\u001b[0m: "
          ]
        }
      ]
    },
    {
      "cell_type": "markdown",
      "source": [
        "the results may be dissapointing beacuse this architecture desigend for much larger datasets, just like lang transformers trained on huge datasets before being fine tuned on task specific datasets, but good results in this notebook is defiently achiveable, its just need much longer training time."
      ],
      "metadata": {
        "id": "Qyfz55bfANsK"
      }
    }
  ]
}